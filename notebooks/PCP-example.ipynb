{
 "cells": [
  {
   "cell_type": "code",
   "execution_count": 1,
   "id": "3989ccb5",
   "metadata": {},
   "outputs": [],
   "source": [
    "import sys\n",
    "\n",
    "import argparse\n",
    "from argparse import Namespace\n",
    "import ast\n",
    "import copy\n",
    "import warnings\n",
    "from typing import List\n",
    "\n",
    "import sys\n",
    "sys.path.insert(0, \"../src\")\n",
    "import numpy as np\n",
    "import torch\n",
    "import traceback\n",
    "from calibration_schemes.AbstractCalibration import Calibration\n",
    "from calibration_schemes.CQRCalibration import CQRCalibration\n",
    "from calibration_schemes.WeightedCalibration import WeightedCalibration\n",
    "from calibration_schemes.PrivilegedConformalPrediction import PrivilegedConformalPrediction\n",
    "from calibration_schemes.TwoStagedConformalPrediction import ConservativeWeightedCalibration\n",
    "from calibration_schemes.DummyCalibration import DummyCalibration\n",
    "from data_utils.data_corruption.data_corruption_masker import DataCorruptionMasker\n",
    "from data_utils.data_type import DataType\n",
    "from data_utils.datasets.dataset import Dataset\n",
    "from data_utils.get_dataset_utils import get_regression_dataset, get_z_dim_from_data_name\n",
    "from get_model_utils import get_proxy_qr_model, get_data_learning_mask_estimator, is_data_for_xgboost\n",
    "from models.data_mask_estimators.OracleDataMasker import OracleDataMasker\n",
    "from models.qr_models.PredictionIntervalModel import PredictionIntervalModel\n",
    "from models.qr_models.QuantileRegression import QuantileRegression\n",
    "from models.data_mask_estimators.DataMaskEstimator import DataMaskEstimator\n",
    "from models.data_mask_estimators.NetworkMaskEstimator import NetworkMaskEstimator, XGBoostMaskEstimator\n",
    "from models.qr_models.XGBoostQR import XGBoostQR\n",
    "from models.regressors.regressor_factory import RegressorType, RegressorFactory\n",
    "from results_helper.regression_results_helper import RegressionResultsHelper\n",
    "from utils import set_seeds\n",
    "import matplotlib\n",
    "from sys import platform\n",
    "\n",
    "\n",
    "%load_ext autoreload\n",
    "%autoreload 2"
   ]
  },
  {
   "cell_type": "markdown",
   "id": "808b97e7",
   "metadata": {
    "pycharm": {
     "name": "#%% md\n"
    }
   },
   "source": [
    "## Define model parameters\n"
   ]
  },
  {
   "cell_type": "code",
   "execution_count": 2,
   "id": "1889c32c",
   "metadata": {},
   "outputs": [
    {
     "name": "stdout",
     "output_type": "stream",
     "text": [
      "starting seed: 0 data: missing_y_bio\n"
     ]
    }
   ],
   "source": [
    "device_name = 'cuda:0' if torch.cuda.is_available() else 'cpu'\n",
    "\n",
    "args = Namespace(data_type=\"real\", x_dim=15, dataset_name=\"missing_y_bio\", data_path='../src/datasets/real_data',\n",
    "                 non_linearity=\"lrelu\", dropout=0.1, data_size=30000, hidden_dims=[32, 64, 64, 32], seed=0,\n",
    "                 alpha=0.1, bs=128, wait=200, lr=1e-4, wd=0., base_results_save_dir=\"./results\",\n",
    "                 training_ratio=0.5, validation_ratio=0.1, calibration_ratio=0.2, epochs=100, figures_dir=\"./figures\",\n",
    "                 saved_models_path=\"./saved_models\", batch_norm=False,\n",
    "                 device=device_name)\n",
    "args.data_type = DataType.Real if args.data_type.lower() == 'real' else DataType.Synthetic\n",
    "\n",
    "\n",
    "args.z_dim = get_z_dim_from_data_name(args.dataset_name)\n",
    "print(f\"starting seed: {args.seed} data: {args.dataset_name}\")\n",
    "set_seeds(args.seed)\n"
   ]
  },
  {
   "cell_type": "code",
   "execution_count": 3,
   "outputs": [
    {
     "name": "stdout",
     "output_type": "stream",
     "text": [
      "data size: 45730, x_dim: 8, y_dim: 1 z_dim: 1\n"
     ]
    }
   ],
   "source": [
    "dataset = get_regression_dataset(args)\n",
    "set_seeds(args.seed)\n",
    "\n",
    "if 'facebook' in dataset.dataset_name:\n",
    "    args.hidden_dims = [64, 128, 64, 32]\n",
    "else:\n",
    "    args.hidden_dims = [32, 64, 64, 32]\n"
   ],
   "metadata": {
    "collapsed": false,
    "pycharm": {
     "name": "#%%\n"
    }
   }
  },
  {
   "cell_type": "code",
   "execution_count": 4,
   "outputs": [
    {
     "name": "stderr",
     "output_type": "stream",
     "text": [
      "nn model fit:   0%|          | 0/100 [00:00<?, ?it/s]"
     ]
    },
    {
     "name": "stdout",
     "output_type": "stream",
     "text": [
      "staring fit of model qr on data missing_y_bio for 100 epochs with bs=128\n"
     ]
    },
    {
     "name": "stderr",
     "output_type": "stream",
     "text": [
      "nn model fit: 100%|██████████| 100/100 [01:30<00:00,  1.11it/s]\n"
     ]
    },
    {
     "data": {
      "text/plain": "<Figure size 432x288 with 1 Axes>",
      "image/png": "[encoded data removed]"
     },
     "metadata": {
      "needs_background": "light"
     },
     "output_type": "display_data"
    }
   ],
   "source": [
    "alpha = args.alpha\n",
    "model = QuantileRegression(dataset.dataset_name, args.saved_models_path, dataset.x_dim, dataset.y_dim, alpha,\n",
    "                                   hidden_dims=args.hidden_dims, dropout=args.dropout, lr=args.lr, wd=args.wd,\n",
    "                                   device=args.device, figures_dir=args.figures_dir, seed=args.seed)\n",
    "model.fit(dataset.x_train, dataset.y_train, dataset.deleted_train, dataset.x_val, dataset.y_val,\n",
    "          dataset.deleted_val, args.epochs, args.bs, args.wait)\n",
    "model.eval()"
   ],
   "metadata": {
    "collapsed": false,
    "pycharm": {
     "name": "#%%\n"
    }
   }
  },
  {
   "cell_type": "code",
   "execution_count": 5,
   "outputs": [],
   "source": [
    "train_uncalibrated_intervals = model.construct_uncalibrated_intervals(dataset.x_train)\n",
    "val_uncalibrated_intervals = model.construct_uncalibrated_intervals(dataset.x_val)\n",
    "cal_uncalibrated_intervals = model.construct_uncalibrated_intervals(dataset.x_cal)\n",
    "test_uncalibrated_intervals = model.construct_uncalibrated_intervals(dataset.x_test)"
   ],
   "metadata": {
    "collapsed": false,
    "pycharm": {
     "name": "#%%\n"
    }
   }
  },
  {
   "cell_type": "code",
   "execution_count": 6,
   "outputs": [],
   "source": [
    "data_mask_estimator = OracleDataMasker(dataset.scaler, dataset.data_masker, dataset.dataset_name, dataset.x_dim, dataset.z_dim)\n",
    "calibration_scheme = PrivilegedConformalPrediction(CQRCalibration(alpha), alpha, dataset.dataset_name, dataset.scaler, data_mask_estimator)"
   ],
   "metadata": {
    "collapsed": false,
    "pycharm": {
     "name": "#%%\n"
    }
   }
  },
  {
   "cell_type": "code",
   "execution_count": 7,
   "outputs": [],
   "source": [
    "calibration_scheme.fit(dataset.x_train, dataset.y_train, dataset.z_train, dataset.deleted_train,\n",
    "                       dataset.x_val,\n",
    "                       dataset.y_val, dataset.z_val,\n",
    "                       dataset.deleted_val, epochs=args.epochs, batch_size=args.bs, n_wait=args.wait,\n",
    "                       train_uncalibrated_intervals=train_uncalibrated_intervals,\n",
    "                       val_uncalibrated_intervals=val_uncalibrated_intervals)\n",
    "calibration_scheme.calibrate(dataset.x_cal, dataset.y_cal, dataset.z_cal, dataset.deleted_cal,\n",
    "                             cal_uncalibrated_intervals)"
   ],
   "metadata": {
    "collapsed": false,
    "pycharm": {
     "name": "#%%\n"
    }
   }
  },
  {
   "cell_type": "code",
   "execution_count": 8,
   "outputs": [],
   "source": [
    "test_calibrated_intervals = calibration_scheme.construct_calibrated_uncertainty_sets(dataset.x_test,\n",
    "                                                                                     test_uncalibrated_intervals,\n",
    "                                                                                     z_test=dataset.z_test)\n",
    "train_calibrated_intervals = calibration_scheme.construct_calibrated_uncertainty_sets(dataset.x_train,\n",
    "                                                                                      train_uncalibrated_intervals,\n",
    "                                                                                      z_test=dataset.z_train)"
   ],
   "metadata": {
    "collapsed": false,
    "pycharm": {
     "name": "#%%\n"
    }
   }
  },
  {
   "cell_type": "code",
   "execution_count": 10,
   "outputs": [
    {
     "name": "stdout",
     "output_type": "stream",
     "text": [
      "coverage rate: 90.335\n",
      "avg. length: 2.499\n"
     ]
    }
   ],
   "source": [
    "coverage_rate = np.round(test_calibrated_intervals.contains(dataset.full_y_test).float().mean().item()*100, 3)\n",
    "lengths =  np.round((test_calibrated_intervals.intervals[..., 1] - test_calibrated_intervals.intervals[..., 0]).mean().item(), 3)\n",
    "\n",
    "print(f\"coverage rate: {coverage_rate}\")\n",
    "print(f\"avg. length: {lengths}\")\n",
    "\n"
   ],
   "metadata": {
    "collapsed": false,
    "pycharm": {
     "name": "#%%\n"
    }
   }
  },
  {
   "cell_type": "code",
   "execution_count": 9,
   "outputs": [],
   "source": [],
   "metadata": {
    "collapsed": false,
    "pycharm": {
     "name": "#%%\n"
    }
   }
  }
 ],
 "metadata": {
  "kernelspec": {
   "display_name": "Python 3 (ipykernel)",
   "language": "python",
   "name": "python3"
  },
  "language_info": {
   "codemirror_mode": {
    "name": "ipython",
    "version": 3
   },
   "file_extension": ".py",
   "mimetype": "text/x-python",
   "name": "python",
   "nbconvert_exporter": "python",
   "pygments_lexer": "ipython3",
   "version": "3.8.6"
  }
 },
 "nbformat": 4,
 "nbformat_minor": 5
}